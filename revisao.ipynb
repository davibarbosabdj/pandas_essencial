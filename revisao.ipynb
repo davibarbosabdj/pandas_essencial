{
 "cells": [
  {
   "cell_type": "code",
   "execution_count": 3,
   "id": "0e35c2f3-8108-4f20-ac9f-ff26b6b98186",
   "metadata": {},
   "outputs": [],
   "source": [
    "import numpy as np\n",
    "import pandas as pd"
   ]
  },
  {
   "cell_type": "markdown",
   "id": "ca954494-ba07-4850-9552-290c88696218",
   "metadata": {
    "tags": []
   },
   "source": [
    "### Series\n",
    "\n",
    "Uma series é como uma coluna em uma tabela, é uma matriz unidimensional contendo dados de qualquer tipo. Os rótulos dos eixos são chamados coletivamente de índices. Uma Serie suporta tanto a indexação inteira, quanto a baseada em rótulo e fornece uma série de métodos para executar operações envolvendo o índice.\n",
    "\n",
    "A criação de uma série pode ser feita das seguintes formas:\n",
    "\n",
    "* A partir de um array "
   ]
  },
  {
   "cell_type": "code",
   "execution_count": 4,
   "id": "947ffaa8-5d76-4294-870b-d8b05a4cf9e3",
   "metadata": {},
   "outputs": [],
   "source": [
    "#Criando o array médias com as médias dos alunos (Valores da Série)\n",
    "medias = np.array([7.88, 5.21, 6.85, 5.90, 6.28, 8.46, 7.08, 3.41, 5.11, 8.11])\n",
    "\n",
    "#Criando um array nomes dos alunos que serão os indices da série\n",
    "nomes = np.array(['Luciano', 'Matheus', 'Rodrigo', 'Bruno', 'Michel',\n",
    "                  'Raul', 'Lucas', 'Caio', 'Paulo', 'Vitor'])\n",
    "\n",
    "#Criando a série turma com as médias e ps nomes como índices\n",
    "turma = pd.Series(medias, index = nomes)\n"
   ]
  },
  {
   "cell_type": "code",
   "execution_count": 5,
   "id": "7334da07-b52d-4320-8c00-81af37fa4d7b",
   "metadata": {},
   "outputs": [
    {
     "data": {
      "text/plain": [
       "array([7.88, 5.21, 6.85, 5.9 , 6.28, 8.46, 7.08, 3.41, 5.11, 8.11])"
      ]
     },
     "execution_count": 5,
     "metadata": {},
     "output_type": "execute_result"
    }
   ],
   "source": [
    "#Exibindo a coluna values (valores) da Série\n",
    "turma.values"
   ]
  },
  {
   "cell_type": "code",
   "execution_count": 6,
   "id": "d2b6ea35-e1b8-4a9b-a1ed-eb1dea69b44e",
   "metadata": {},
   "outputs": [
    {
     "data": {
      "text/plain": [
       "Index(['Luciano', 'Matheus', 'Rodrigo', 'Bruno', 'Michel', 'Raul', 'Lucas',\n",
       "       'Caio', 'Paulo', 'Vitor'],\n",
       "      dtype='object')"
      ]
     },
     "execution_count": 6,
     "metadata": {},
     "output_type": "execute_result"
    }
   ],
   "source": [
    "#Exibindo a coluna index (índice) da Série\n",
    "turma.index"
   ]
  },
  {
   "cell_type": "code",
   "execution_count": 7,
   "id": "134deafe-6b3a-4770-9c1c-0e959722cae6",
   "metadata": {},
   "outputs": [
    {
     "data": {
      "text/plain": [
       "Luciano    7.88\n",
       "Matheus    5.21\n",
       "Rodrigo    6.85\n",
       "Bruno      5.90\n",
       "Michel     6.28\n",
       "dtype: float64"
      ]
     },
     "execution_count": 7,
     "metadata": {},
     "output_type": "execute_result"
    }
   ],
   "source": [
    "#Resultado mostra os nomes e médias\n",
    "turma.head()"
   ]
  },
  {
   "cell_type": "code",
   "execution_count": 8,
   "id": "17f98735-5004-420d-b9dc-7af17a662b40",
   "metadata": {},
   "outputs": [
    {
     "data": {
      "text/plain": [
       "5.11"
      ]
     },
     "execution_count": 8,
     "metadata": {},
     "output_type": "execute_result"
    }
   ],
   "source": [
    "#Exibindo a média do aluno Paulo\n",
    "turma['Paulo']"
   ]
  },
  {
   "cell_type": "code",
   "execution_count": 9,
   "id": "0308539e-1c33-4384-a9e3-ff5a317b523b",
   "metadata": {},
   "outputs": [
    {
     "name": "stdout",
     "output_type": "stream",
     "text": [
      "Média da turma:  6.428999999999999\n"
     ]
    }
   ],
   "source": [
    "#Exibindo a média da turma\n",
    "print('Média da turma: ', turma.mean())"
   ]
  },
  {
   "cell_type": "code",
   "execution_count": 10,
   "id": "95bdbbee-950c-4633-b3e8-b1d8759d1c48",
   "metadata": {},
   "outputs": [
    {
     "data": {
      "text/plain": [
       "count    10.000000\n",
       "mean      6.429000\n",
       "std       1.574071\n",
       "min       3.410000\n",
       "25%       5.382500\n",
       "50%       6.565000\n",
       "75%       7.680000\n",
       "max       8.460000\n",
       "dtype: float64"
      ]
     },
     "execution_count": 10,
     "metadata": {},
     "output_type": "execute_result"
    }
   ],
   "source": [
    "#Exibindo um resumo estatistico da turma\n",
    "turma.describe()"
   ]
  },
  {
   "cell_type": "markdown",
   "id": "756da07f-66a2-484a-8980-2fb1daa75b23",
   "metadata": {},
   "source": [
    "O Pandas permite a aplicação de expressões matemáticas e funções matemáticas do numpy diretamente. "
   ]
  },
  {
   "cell_type": "code",
   "execution_count": 11,
   "id": "10a672a1-6102-4142-9ce0-23d0482fe06a",
   "metadata": {},
   "outputs": [
    {
     "data": {
      "text/plain": [
       "Luciano    8.88\n",
       "Matheus    6.21\n",
       "Rodrigo    7.85\n",
       "Bruno      6.90\n",
       "Michel     7.28\n",
       "Raul       9.46\n",
       "Lucas      8.08\n",
       "Caio       4.41\n",
       "Paulo      6.11\n",
       "Vitor      9.11\n",
       "dtype: float64"
      ]
     },
     "execution_count": 11,
     "metadata": {},
     "output_type": "execute_result"
    }
   ],
   "source": [
    "novas_medias = turma + 1\n",
    "novas_medias"
   ]
  },
  {
   "cell_type": "markdown",
   "id": "882ed858-6c4a-4a4f-b126-4e3615fff6d8",
   "metadata": {
    "tags": []
   },
   "source": [
    "### Data Frames \n",
    "\n",
    "DataFrame é uma estrutura de dados bidimensional com os dados alinhados de forma tabular em linhas e colunas, mutável em tamanho e potencialmente heterogênea. \n",
    "\n",
    "* Criando um Data Frame"
   ]
  },
  {
   "cell_type": "code",
   "execution_count": 12,
   "id": "3c2cfe29-d65d-45b1-83ce-ef8054afedae",
   "metadata": {},
   "outputs": [
    {
     "data": {
      "text/html": [
       "<div>\n",
       "<style scoped>\n",
       "    .dataframe tbody tr th:only-of-type {\n",
       "        vertical-align: middle;\n",
       "    }\n",
       "\n",
       "    .dataframe tbody tr th {\n",
       "        vertical-align: top;\n",
       "    }\n",
       "\n",
       "    .dataframe thead th {\n",
       "        text-align: right;\n",
       "    }\n",
       "</style>\n",
       "<table border=\"1\" class=\"dataframe\">\n",
       "  <thead>\n",
       "    <tr style=\"text-align: right;\">\n",
       "      <th></th>\n",
       "      <th>Idade</th>\n",
       "      <th>Sexo</th>\n",
       "      <th>Peso</th>\n",
       "      <th>Altura</th>\n",
       "    </tr>\n",
       "  </thead>\n",
       "  <tbody>\n",
       "    <tr>\n",
       "      <th>0</th>\n",
       "      <td>21</td>\n",
       "      <td>F</td>\n",
       "      <td>50</td>\n",
       "      <td>1.57</td>\n",
       "    </tr>\n",
       "    <tr>\n",
       "      <th>1</th>\n",
       "      <td>22</td>\n",
       "      <td>F</td>\n",
       "      <td>58</td>\n",
       "      <td>1.70</td>\n",
       "    </tr>\n",
       "  </tbody>\n",
       "</table>\n",
       "</div>"
      ],
      "text/plain": [
       "   Idade Sexo  Peso  Altura\n",
       "0     21    F    50    1.57\n",
       "1     22    F    58    1.70"
      ]
     },
     "execution_count": 12,
     "metadata": {},
     "output_type": "execute_result"
    }
   ],
   "source": [
    "#Criando um Data Frame com 2 linhas (inidexes 0 e 1) e 4 colunas ('Idade', 'Sexo', 'Peso', 'Altura')\n",
    "meu_df = pd.DataFrame([[21, \"F\", 50, 1.57], [22, 'F', 58, 1.70]], index = range(0,2), columns=['Idade', 'Sexo', 'Peso', 'Altura'])\n",
    "\n",
    "#Exibindo o Data Frame criado\n",
    "meu_df"
   ]
  },
  {
   "cell_type": "code",
   "execution_count": 13,
   "id": "51612f8d-a3a6-4600-a233-bd21abf201ff",
   "metadata": {},
   "outputs": [
    {
     "data": {
      "text/plain": [
       "Idade      22\n",
       "Sexo        F\n",
       "Peso       58\n",
       "Altura    1.7\n",
       "Name: 1, dtype: object"
      ]
     },
     "execution_count": 13,
     "metadata": {},
     "output_type": "execute_result"
    }
   ],
   "source": [
    "#Acesso as linhas do dataframe a partir do sue índice. Utilizar a função .iloc[indice].\n",
    "#Exibir a segunda linha do Data Frame\n",
    "meu_df.iloc[1]"
   ]
  },
  {
   "cell_type": "markdown",
   "id": "81acba31-553f-4b19-a313-66fbbda877d7",
   "metadata": {},
   "source": [
    "* Uma Série Pandas: um array unidimensional capaz de armazenar qualquer tipo de dados com rótulos ou índice de eixo. Um exemplo de um objeto Series é uma coluna de um DataFrame."
   ]
  },
  {
   "cell_type": "code",
   "execution_count": 14,
   "id": "a755e3b1-3505-4774-a731-28c643a818e3",
   "metadata": {},
   "outputs": [
    {
     "data": {
      "text/html": [
       "<div>\n",
       "<style scoped>\n",
       "    .dataframe tbody tr th:only-of-type {\n",
       "        vertical-align: middle;\n",
       "    }\n",
       "\n",
       "    .dataframe tbody tr th {\n",
       "        vertical-align: top;\n",
       "    }\n",
       "\n",
       "    .dataframe thead th {\n",
       "        text-align: right;\n",
       "    }\n",
       "</style>\n",
       "<table border=\"1\" class=\"dataframe\">\n",
       "  <thead>\n",
       "    <tr style=\"text-align: right;\">\n",
       "      <th></th>\n",
       "      <th>Nomes</th>\n",
       "    </tr>\n",
       "  </thead>\n",
       "  <tbody>\n",
       "    <tr>\n",
       "      <th>0</th>\n",
       "      <td>Luciano</td>\n",
       "    </tr>\n",
       "    <tr>\n",
       "      <th>1</th>\n",
       "      <td>Matheus</td>\n",
       "    </tr>\n",
       "    <tr>\n",
       "      <th>2</th>\n",
       "      <td>Rodrigo</td>\n",
       "    </tr>\n",
       "    <tr>\n",
       "      <th>3</th>\n",
       "      <td>Bruno</td>\n",
       "    </tr>\n",
       "    <tr>\n",
       "      <th>4</th>\n",
       "      <td>Michel</td>\n",
       "    </tr>\n",
       "  </tbody>\n",
       "</table>\n",
       "</div>"
      ],
      "text/plain": [
       "     Nomes\n",
       "0  Luciano\n",
       "1  Matheus\n",
       "2  Rodrigo\n",
       "3    Bruno\n",
       "4   Michel"
      ]
     },
     "execution_count": 14,
     "metadata": {},
     "output_type": "execute_result"
    }
   ],
   "source": [
    "#Criando uma Série formada por nomes e com índices de 0 até 4.\n",
    "nomes = pd.Series(['Luciano', 'Matheus', 'Rodrigo', 'Bruno', 'Michel'], index = range(0,5))\n",
    "\n",
    "#Criando um Data Frame a partir da Serie nomes com a coluna denominada Nomes\n",
    "df = pd.DataFrame(data = nomes, columns=['Nomes'])\n",
    "\n",
    "df"
   ]
  },
  {
   "cell_type": "markdown",
   "id": "2ac47fd1-c8be-4dbe-b75f-290238a79ee8",
   "metadata": {},
   "source": [
    "* Uma matriz bidimensional, que pode ser um registro ou estruturada"
   ]
  },
  {
   "cell_type": "code",
   "execution_count": 15,
   "id": "3d7c55e1-96ab-462a-b045-cc3db6db2082",
   "metadata": {},
   "outputs": [
    {
     "data": {
      "text/html": [
       "<div>\n",
       "<style scoped>\n",
       "    .dataframe tbody tr th:only-of-type {\n",
       "        vertical-align: middle;\n",
       "    }\n",
       "\n",
       "    .dataframe tbody tr th {\n",
       "        vertical-align: top;\n",
       "    }\n",
       "\n",
       "    .dataframe thead th {\n",
       "        text-align: right;\n",
       "    }\n",
       "</style>\n",
       "<table border=\"1\" class=\"dataframe\">\n",
       "  <thead>\n",
       "    <tr style=\"text-align: right;\">\n",
       "      <th></th>\n",
       "      <th>País</th>\n",
       "      <th>Capital</th>\n",
       "      <th>População</th>\n",
       "    </tr>\n",
       "  </thead>\n",
       "  <tbody>\n",
       "    <tr>\n",
       "      <th>100</th>\n",
       "      <td>Portugal</td>\n",
       "      <td>Lisboa</td>\n",
       "      <td>10000000</td>\n",
       "    </tr>\n",
       "    <tr>\n",
       "      <th>101</th>\n",
       "      <td>Peru</td>\n",
       "      <td>Lima</td>\n",
       "      <td>32000000</td>\n",
       "    </tr>\n",
       "    <tr>\n",
       "      <th>102</th>\n",
       "      <td>Chile</td>\n",
       "      <td>Santiago</td>\n",
       "      <td>18000000</td>\n",
       "    </tr>\n",
       "    <tr>\n",
       "      <th>103</th>\n",
       "      <td>Brasil</td>\n",
       "      <td>Brasília</td>\n",
       "      <td>209000000</td>\n",
       "    </tr>\n",
       "  </tbody>\n",
       "</table>\n",
       "</div>"
      ],
      "text/plain": [
       "         País   Capital  População\n",
       "100  Portugal    Lisboa   10000000\n",
       "101      Peru      Lima   32000000\n",
       "102     Chile  Santiago   18000000\n",
       "103    Brasil  Brasília  209000000"
      ]
     },
     "execution_count": 15,
     "metadata": {},
     "output_type": "execute_result"
    }
   ],
   "source": [
    "#Criando um numpy.array (data) bidimensional (3x3)\n",
    "data = np.array([['Portugal', 'Lisboa', 10000000], \n",
    "                 ['Peru', 'Lima', 32000000],\n",
    "                 ['Chile', 'Santiago', 18000000],\n",
    "                 ['Brasil', 'Brasília', 209000000]])\n",
    "\n",
    "#Criando o Data Frame com np.array (data) com as colunas \n",
    "#('País', 'Capital', 'População'), indexado de 100 até 103\n",
    "df_novo = pd.DataFrame(data, index= range(100,104), columns= ['País', 'Capital', 'População'])\n",
    "\n",
    "#Exibindo o DataFrame\n",
    "df_novo"
   ]
  },
  {
   "cell_type": "code",
   "execution_count": 16,
   "id": "435453b7-7c21-467b-955a-448336e65424",
   "metadata": {},
   "outputs": [
    {
     "data": {
      "text/plain": [
       "País            Chile\n",
       "Capital      Santiago\n",
       "População    18000000\n",
       "Name: 102, dtype: object"
      ]
     },
     "execution_count": 16,
     "metadata": {},
     "output_type": "execute_result"
    }
   ],
   "source": [
    "#Exibindo uma linha do Data Frame selecionando a partir do índice.\n",
    "#Para isso utilizamos a função .loc[indice]\n",
    "\n",
    "df_novo.loc[102]"
   ]
  },
  {
   "cell_type": "code",
   "execution_count": 17,
   "id": "6d910598-10c1-4e60-b64b-a81184c6afa4",
   "metadata": {},
   "outputs": [
    {
     "data": {
      "text/plain": [
       "100      Lisboa\n",
       "101        Lima\n",
       "102    Santiago\n",
       "103    Brasília\n",
       "Name: Capital, dtype: object"
      ]
     },
     "execution_count": 17,
     "metadata": {},
     "output_type": "execute_result"
    }
   ],
   "source": [
    "#Exibindo os dados de uma coluna (Capital), usada como Índice do Data Frame\n",
    "\n",
    "df_novo['Capital']"
   ]
  },
  {
   "cell_type": "code",
   "execution_count": 18,
   "id": "ffc591d1-1a6a-4e38-86f8-e2e57521292b",
   "metadata": {},
   "outputs": [
    {
     "data": {
      "text/html": [
       "<div>\n",
       "<style scoped>\n",
       "    .dataframe tbody tr th:only-of-type {\n",
       "        vertical-align: middle;\n",
       "    }\n",
       "\n",
       "    .dataframe tbody tr th {\n",
       "        vertical-align: top;\n",
       "    }\n",
       "\n",
       "    .dataframe thead th {\n",
       "        text-align: right;\n",
       "    }\n",
       "</style>\n",
       "<table border=\"1\" class=\"dataframe\">\n",
       "  <thead>\n",
       "    <tr style=\"text-align: right;\">\n",
       "      <th></th>\n",
       "      <th>País</th>\n",
       "      <th>Capital</th>\n",
       "      <th>População</th>\n",
       "    </tr>\n",
       "  </thead>\n",
       "  <tbody>\n",
       "    <tr>\n",
       "      <th>101</th>\n",
       "      <td>Peru</td>\n",
       "      <td>Lima</td>\n",
       "      <td>32000000</td>\n",
       "    </tr>\n",
       "    <tr>\n",
       "      <th>102</th>\n",
       "      <td>Chile</td>\n",
       "      <td>Santiago</td>\n",
       "      <td>18000000</td>\n",
       "    </tr>\n",
       "    <tr>\n",
       "      <th>103</th>\n",
       "      <td>Brasil</td>\n",
       "      <td>Brasília</td>\n",
       "      <td>209000000</td>\n",
       "    </tr>\n",
       "  </tbody>\n",
       "</table>\n",
       "</div>"
      ],
      "text/plain": [
       "       País   Capital  População\n",
       "101    Peru      Lima   32000000\n",
       "102   Chile  Santiago   18000000\n",
       "103  Brasil  Brasília  209000000"
      ]
     },
     "execution_count": 18,
     "metadata": {},
     "output_type": "execute_result"
    }
   ],
   "source": [
    "#Exibindo as linhas onde a população é maior que 10 milhões de habitantes.\n",
    "#Utilizamos a função .loc[condicional]\n",
    "\n",
    "df_novo.loc[df_novo['População'] > '10000000']"
   ]
  },
  {
   "cell_type": "markdown",
   "id": "3905572f-4f10-4225-81d1-32a941841059",
   "metadata": {},
   "source": [
    "* Um ndarray bidimensional"
   ]
  },
  {
   "cell_type": "code",
   "execution_count": 19,
   "id": "ce96b398-a33c-4caa-acdf-3714fce108a3",
   "metadata": {},
   "outputs": [],
   "source": [
    "#Criando o array bidiomensional 2x3\n",
    "x = np.array([[1,2,3], [4,5,6]], np.int32)\n",
    "\n",
    "#Criando o DataFrame a a partir do ndarray 2x3, renomeado as colunas\n",
    "df2 = pd.DataFrame(x, columns = ['col1', 'col2', 'col3'])"
   ]
  },
  {
   "cell_type": "code",
   "execution_count": 20,
   "id": "a33776d8-5060-4b71-ab7f-db5a74aa302a",
   "metadata": {},
   "outputs": [
    {
     "data": {
      "text/html": [
       "<div>\n",
       "<style scoped>\n",
       "    .dataframe tbody tr th:only-of-type {\n",
       "        vertical-align: middle;\n",
       "    }\n",
       "\n",
       "    .dataframe tbody tr th {\n",
       "        vertical-align: top;\n",
       "    }\n",
       "\n",
       "    .dataframe thead th {\n",
       "        text-align: right;\n",
       "    }\n",
       "</style>\n",
       "<table border=\"1\" class=\"dataframe\">\n",
       "  <thead>\n",
       "    <tr style=\"text-align: right;\">\n",
       "      <th></th>\n",
       "      <th>col1</th>\n",
       "      <th>col2</th>\n",
       "      <th>col3</th>\n",
       "    </tr>\n",
       "  </thead>\n",
       "  <tbody>\n",
       "    <tr>\n",
       "      <th>0</th>\n",
       "      <td>1</td>\n",
       "      <td>2</td>\n",
       "      <td>3</td>\n",
       "    </tr>\n",
       "    <tr>\n",
       "      <th>1</th>\n",
       "      <td>4</td>\n",
       "      <td>5</td>\n",
       "      <td>6</td>\n",
       "    </tr>\n",
       "  </tbody>\n",
       "</table>\n",
       "</div>"
      ],
      "text/plain": [
       "   col1  col2  col3\n",
       "0     1     2     3\n",
       "1     4     5     6"
      ]
     },
     "execution_count": 20,
     "metadata": {},
     "output_type": "execute_result"
    }
   ],
   "source": [
    "#Exibindo o DataFrame\n",
    "df2"
   ]
  },
  {
   "cell_type": "code",
   "execution_count": 21,
   "id": "847ad132-02b2-4ddf-b2cd-eb6aa288cdc1",
   "metadata": {},
   "outputs": [
    {
     "data": {
      "text/plain": [
       "1    6\n",
       "Name: col3, dtype: int32"
      ]
     },
     "execution_count": 21,
     "metadata": {},
     "output_type": "execute_result"
    }
   ],
   "source": [
    "#Exibindo apenas os dados da coluna 'col3' onde o valor da 'col2' é igual a 5 (df.loc)\n",
    "df2.loc[df2['col2']==5, 'col3']"
   ]
  },
  {
   "cell_type": "markdown",
   "id": "48d68c32-cf74-477d-a255-56576498a600",
   "metadata": {},
   "source": [
    "* Dicionários de ndarray unidimensionais, listas, dicionários ou Séries."
   ]
  },
  {
   "cell_type": "code",
   "execution_count": 22,
   "id": "bbe076ab-0348-47f8-ba76-4805af96d2a6",
   "metadata": {},
   "outputs": [],
   "source": [
    "#Criando 4 séries a partir de um dicionário que contém 3 chaves: valor\n",
    "\n",
    "jogador1 = pd.Series({'Nome': 'Gabriel Barbosa', 'Gols': 25, 'Time': 'C.R Flamengo'})\n",
    "\n",
    "jogador2 = pd.Series({'Nome': 'Bruno Henrique', 'Gols': 21, 'Time': 'C.R Flamengo'})\n",
    "\n",
    "jogador3 = pd.Series({'Nome': 'Gilberto', 'Gols': 14, 'Time': 'E.C Bahia'})\n",
    "\n",
    "jogador4 = pd.Series({'Nome': 'Everaldo', 'Gols': 13, 'Time': 'A. Chapecoense'})\n",
    "\n",
    "\n",
    "#Criando o Data Frame a partir das Séries Criadas\n",
    "df_jogadores = pd.DataFrame([jogador1, jogador2, jogador3, jogador4])"
   ]
  },
  {
   "cell_type": "code",
   "execution_count": 23,
   "id": "ead93976-382a-473e-b561-087bebf76300",
   "metadata": {},
   "outputs": [
    {
     "data": {
      "text/html": [
       "<div>\n",
       "<style scoped>\n",
       "    .dataframe tbody tr th:only-of-type {\n",
       "        vertical-align: middle;\n",
       "    }\n",
       "\n",
       "    .dataframe tbody tr th {\n",
       "        vertical-align: top;\n",
       "    }\n",
       "\n",
       "    .dataframe thead th {\n",
       "        text-align: right;\n",
       "    }\n",
       "</style>\n",
       "<table border=\"1\" class=\"dataframe\">\n",
       "  <thead>\n",
       "    <tr style=\"text-align: right;\">\n",
       "      <th></th>\n",
       "      <th>Nome</th>\n",
       "      <th>Gols</th>\n",
       "      <th>Time</th>\n",
       "    </tr>\n",
       "  </thead>\n",
       "  <tbody>\n",
       "    <tr>\n",
       "      <th>0</th>\n",
       "      <td>Gabriel Barbosa</td>\n",
       "      <td>25</td>\n",
       "      <td>C.R Flamengo</td>\n",
       "    </tr>\n",
       "    <tr>\n",
       "      <th>1</th>\n",
       "      <td>Bruno Henrique</td>\n",
       "      <td>21</td>\n",
       "      <td>C.R Flamengo</td>\n",
       "    </tr>\n",
       "    <tr>\n",
       "      <th>2</th>\n",
       "      <td>Gilberto</td>\n",
       "      <td>14</td>\n",
       "      <td>E.C Bahia</td>\n",
       "    </tr>\n",
       "    <tr>\n",
       "      <th>3</th>\n",
       "      <td>Everaldo</td>\n",
       "      <td>13</td>\n",
       "      <td>A. Chapecoense</td>\n",
       "    </tr>\n",
       "  </tbody>\n",
       "</table>\n",
       "</div>"
      ],
      "text/plain": [
       "              Nome  Gols            Time\n",
       "0  Gabriel Barbosa    25    C.R Flamengo\n",
       "1   Bruno Henrique    21    C.R Flamengo\n",
       "2         Gilberto    14       E.C Bahia\n",
       "3         Everaldo    13  A. Chapecoense"
      ]
     },
     "execution_count": 23,
     "metadata": {},
     "output_type": "execute_result"
    }
   ],
   "source": [
    "#Exibindo o Data Frame Criado\n",
    "df_jogadores"
   ]
  },
  {
   "cell_type": "code",
   "execution_count": 24,
   "id": "981c973b-2b87-4943-834d-290332877d5f",
   "metadata": {},
   "outputs": [
    {
     "data": {
      "text/html": [
       "<div>\n",
       "<style scoped>\n",
       "    .dataframe tbody tr th:only-of-type {\n",
       "        vertical-align: middle;\n",
       "    }\n",
       "\n",
       "    .dataframe tbody tr th {\n",
       "        vertical-align: top;\n",
       "    }\n",
       "\n",
       "    .dataframe thead th {\n",
       "        text-align: right;\n",
       "    }\n",
       "</style>\n",
       "<table border=\"1\" class=\"dataframe\">\n",
       "  <thead>\n",
       "    <tr style=\"text-align: right;\">\n",
       "      <th></th>\n",
       "      <th>Nome</th>\n",
       "      <th>Gols</th>\n",
       "      <th>Time</th>\n",
       "    </tr>\n",
       "  </thead>\n",
       "  <tbody>\n",
       "    <tr>\n",
       "      <th>0</th>\n",
       "      <td>Gabriel Barbosa</td>\n",
       "      <td>25</td>\n",
       "      <td>C.R Flamengo</td>\n",
       "    </tr>\n",
       "    <tr>\n",
       "      <th>1</th>\n",
       "      <td>Bruno Henrique</td>\n",
       "      <td>21</td>\n",
       "      <td>C.R Flamengo</td>\n",
       "    </tr>\n",
       "  </tbody>\n",
       "</table>\n",
       "</div>"
      ],
      "text/plain": [
       "              Nome  Gols          Time\n",
       "0  Gabriel Barbosa    25  C.R Flamengo\n",
       "1   Bruno Henrique    21  C.R Flamengo"
      ]
     },
     "execution_count": 24,
     "metadata": {},
     "output_type": "execute_result"
    }
   ],
   "source": [
    "#Exibir apenas as colunas Nome e Time dos jogadores com mais de 20 gols. Utiliza-se a função loc()\n",
    "df_jogadores.loc[df_jogadores['Gols'] > 20, ['Nome', 'Gols', 'Time']]"
   ]
  },
  {
   "cell_type": "code",
   "execution_count": 25,
   "id": "b35a4fd7-4d3b-40bf-9f07-de62a6da2f00",
   "metadata": {},
   "outputs": [
    {
     "data": {
      "text/html": [
       "<div>\n",
       "<style scoped>\n",
       "    .dataframe tbody tr th:only-of-type {\n",
       "        vertical-align: middle;\n",
       "    }\n",
       "\n",
       "    .dataframe tbody tr th {\n",
       "        vertical-align: top;\n",
       "    }\n",
       "\n",
       "    .dataframe thead th {\n",
       "        text-align: right;\n",
       "    }\n",
       "</style>\n",
       "<table border=\"1\" class=\"dataframe\">\n",
       "  <thead>\n",
       "    <tr style=\"text-align: right;\">\n",
       "      <th></th>\n",
       "      <th>Nome</th>\n",
       "      <th>Gols</th>\n",
       "      <th>Time</th>\n",
       "    </tr>\n",
       "  </thead>\n",
       "  <tbody>\n",
       "    <tr>\n",
       "      <th>1</th>\n",
       "      <td>Bruno Henrique</td>\n",
       "      <td>21</td>\n",
       "      <td>C.R Flamengo</td>\n",
       "    </tr>\n",
       "  </tbody>\n",
       "</table>\n",
       "</div>"
      ],
      "text/plain": [
       "             Nome  Gols          Time\n",
       "1  Bruno Henrique    21  C.R Flamengo"
      ]
     },
     "execution_count": 25,
     "metadata": {},
     "output_type": "execute_result"
    }
   ],
   "source": [
    "#Utilizando a técnica de slice para recuperar linhas do DataFrame\n",
    "df_jogadores[1:2]"
   ]
  },
  {
   "cell_type": "markdown",
   "id": "1d973384-7c0d-4ec0-83ba-4cdbdc7d01ec",
   "metadata": {},
   "source": [
    "### Seleção de Dados do Pandas\n",
    "\n",
    "Existem várias maneiras de selecionar e indexar linhas e colunas dos DataFrames do Pandas, mas existem 3 possíveis maneiras para realizar as atividades de seleção e indexação no Pandas que são:\n",
    "\n",
    "* Selecionando os dados pela técnica de Slice\n",
    "* Selecionando dados por números de linha (.iloc)\n",
    "* Selecionando dados por rótulo ou por uma declaração condicional (.loc)"
   ]
  },
  {
   "cell_type": "code",
   "execution_count": 26,
   "id": "b0d29324-1da7-4872-a8e9-a46dea176b6e",
   "metadata": {},
   "outputs": [],
   "source": [
    "#Criando um Data Frame a partir do Arquivo.csv As colunas do arquivo não serão usadas como índice (index_col = False)\n",
    "df_population = pd.read_csv('http://gsociology.icaap.org/data/PD_data_cia.csv ', index_col = False)"
   ]
  },
  {
   "cell_type": "code",
   "execution_count": 27,
   "id": "e5291a32-5ae6-42e7-bb7c-e703531fdc29",
   "metadata": {},
   "outputs": [
    {
     "data": {
      "text/html": [
       "<div>\n",
       "<style scoped>\n",
       "    .dataframe tbody tr th:only-of-type {\n",
       "        vertical-align: middle;\n",
       "    }\n",
       "\n",
       "    .dataframe tbody tr th {\n",
       "        vertical-align: top;\n",
       "    }\n",
       "\n",
       "    .dataframe thead th {\n",
       "        text-align: right;\n",
       "    }\n",
       "</style>\n",
       "<table border=\"1\" class=\"dataframe\">\n",
       "  <thead>\n",
       "    <tr style=\"text-align: right;\">\n",
       "      <th></th>\n",
       "      <th>pop</th>\n",
       "      <th>area</th>\n",
       "      <th>density</th>\n",
       "      <th>coastline</th>\n",
       "      <th>coast2area</th>\n",
       "      <th>revenue</th>\n",
       "      <th>expenditure</th>\n",
       "      <th>expnd_rev</th>\n",
       "      <th>expndpop</th>\n",
       "      <th>gini</th>\n",
       "      <th>...</th>\n",
       "      <th>North</th>\n",
       "      <th>DegEW</th>\n",
       "      <th>SecEW</th>\n",
       "      <th>EW</th>\n",
       "      <th>East</th>\n",
       "      <th>m_elecconsum</th>\n",
       "      <th>elecproduction</th>\n",
       "      <th>IMR</th>\n",
       "      <th>literacy</th>\n",
       "      <th>end</th>\n",
       "    </tr>\n",
       "  </thead>\n",
       "  <tbody>\n",
       "    <tr>\n",
       "      <th>0</th>\n",
       "      <td>31056997</td>\n",
       "      <td>647500</td>\n",
       "      <td>47.964474</td>\n",
       "      <td>0.0</td>\n",
       "      <td>0.000000</td>\n",
       "      <td>269.0</td>\n",
       "      <td>561.0</td>\n",
       "      <td>2.085502</td>\n",
       "      <td>18.063562</td>\n",
       "      <td>NaN</td>\n",
       "      <td>...</td>\n",
       "      <td>33</td>\n",
       "      <td>65</td>\n",
       "      <td>0</td>\n",
       "      <td>E</td>\n",
       "      <td>65</td>\n",
       "      <td>1042.0</td>\n",
       "      <td>9.050000e+08</td>\n",
       "      <td>160.23</td>\n",
       "      <td>0.360</td>\n",
       "      <td>1</td>\n",
       "    </tr>\n",
       "    <tr>\n",
       "      <th>1</th>\n",
       "      <td>3581655</td>\n",
       "      <td>28748</td>\n",
       "      <td>124.587971</td>\n",
       "      <td>362.0</td>\n",
       "      <td>1.259218</td>\n",
       "      <td>1960.0</td>\n",
       "      <td>2377.0</td>\n",
       "      <td>1.212755</td>\n",
       "      <td>663.659677</td>\n",
       "      <td>28.2</td>\n",
       "      <td>...</td>\n",
       "      <td>41</td>\n",
       "      <td>20</td>\n",
       "      <td>0</td>\n",
       "      <td>E</td>\n",
       "      <td>20</td>\n",
       "      <td>6760.0</td>\n",
       "      <td>5.680000e+09</td>\n",
       "      <td>20.75</td>\n",
       "      <td>0.865</td>\n",
       "      <td>1</td>\n",
       "    </tr>\n",
       "    <tr>\n",
       "      <th>2</th>\n",
       "      <td>32930091</td>\n",
       "      <td>2381740</td>\n",
       "      <td>13.826065</td>\n",
       "      <td>998.0</td>\n",
       "      <td>0.041902</td>\n",
       "      <td>42050.0</td>\n",
       "      <td>30750.0</td>\n",
       "      <td>0.731272</td>\n",
       "      <td>933.796387</td>\n",
       "      <td>35.3</td>\n",
       "      <td>...</td>\n",
       "      <td>28</td>\n",
       "      <td>3</td>\n",
       "      <td>0</td>\n",
       "      <td>E</td>\n",
       "      <td>3</td>\n",
       "      <td>24900.0</td>\n",
       "      <td>2.699000e+10</td>\n",
       "      <td>29.87</td>\n",
       "      <td>0.700</td>\n",
       "      <td>1</td>\n",
       "    </tr>\n",
       "    <tr>\n",
       "      <th>3</th>\n",
       "      <td>57794</td>\n",
       "      <td>199</td>\n",
       "      <td>290.422111</td>\n",
       "      <td>116.0</td>\n",
       "      <td>58.291457</td>\n",
       "      <td>121.0</td>\n",
       "      <td>127.0</td>\n",
       "      <td>1.049587</td>\n",
       "      <td>2197.459944</td>\n",
       "      <td>NaN</td>\n",
       "      <td>...</td>\n",
       "      <td>-14</td>\n",
       "      <td>170</td>\n",
       "      <td>0</td>\n",
       "      <td>W</td>\n",
       "      <td>-170</td>\n",
       "      <td>120.9</td>\n",
       "      <td>1.300000e+08</td>\n",
       "      <td>9.07</td>\n",
       "      <td>0.970</td>\n",
       "      <td>1</td>\n",
       "    </tr>\n",
       "    <tr>\n",
       "      <th>4</th>\n",
       "      <td>71201</td>\n",
       "      <td>468</td>\n",
       "      <td>152.138889</td>\n",
       "      <td>0.0</td>\n",
       "      <td>0.000000</td>\n",
       "      <td>373.5</td>\n",
       "      <td>373.5</td>\n",
       "      <td>1.000000</td>\n",
       "      <td>5245.712841</td>\n",
       "      <td>NaN</td>\n",
       "      <td>...</td>\n",
       "      <td>42</td>\n",
       "      <td>1</td>\n",
       "      <td>30</td>\n",
       "      <td>E</td>\n",
       "      <td>1</td>\n",
       "      <td>NaN</td>\n",
       "      <td>NaN</td>\n",
       "      <td>4.04</td>\n",
       "      <td>1.000</td>\n",
       "      <td>1</td>\n",
       "    </tr>\n",
       "  </tbody>\n",
       "</table>\n",
       "<p>5 rows × 38 columns</p>\n",
       "</div>"
      ],
      "text/plain": [
       "        pop     area     density  coastline  coast2area  revenue  expenditure  \\\n",
       "0  31056997   647500   47.964474        0.0    0.000000    269.0        561.0   \n",
       "1   3581655    28748  124.587971      362.0    1.259218   1960.0       2377.0   \n",
       "2  32930091  2381740   13.826065      998.0    0.041902  42050.0      30750.0   \n",
       "3     57794      199  290.422111      116.0   58.291457    121.0        127.0   \n",
       "4     71201      468  152.138889        0.0    0.000000    373.5        373.5   \n",
       "\n",
       "   expnd_rev     expndpop  gini  ...  North  DegEW  SecEW  EW  East  \\\n",
       "0   2.085502    18.063562   NaN  ...     33     65      0   E    65   \n",
       "1   1.212755   663.659677  28.2  ...     41     20      0   E    20   \n",
       "2   0.731272   933.796387  35.3  ...     28      3      0   E     3   \n",
       "3   1.049587  2197.459944   NaN  ...    -14    170      0   W  -170   \n",
       "4   1.000000  5245.712841   NaN  ...     42      1     30   E     1   \n",
       "\n",
       "   m_elecconsum  elecproduction     IMR  literacy  end  \n",
       "0        1042.0    9.050000e+08  160.23     0.360    1  \n",
       "1        6760.0    5.680000e+09   20.75     0.865    1  \n",
       "2       24900.0    2.699000e+10   29.87     0.700    1  \n",
       "3         120.9    1.300000e+08    9.07     0.970    1  \n",
       "4           NaN             NaN    4.04     1.000    1  \n",
       "\n",
       "[5 rows x 38 columns]"
      ]
     },
     "execution_count": 27,
     "metadata": {},
     "output_type": "execute_result"
    }
   ],
   "source": [
    "df_population.head()"
   ]
  },
  {
   "cell_type": "code",
   "execution_count": 28,
   "id": "61163da6-7751-4bff-88bb-e94507944edd",
   "metadata": {},
   "outputs": [
    {
     "data": {
      "text/html": [
       "<div>\n",
       "<style scoped>\n",
       "    .dataframe tbody tr th:only-of-type {\n",
       "        vertical-align: middle;\n",
       "    }\n",
       "\n",
       "    .dataframe tbody tr th {\n",
       "        vertical-align: top;\n",
       "    }\n",
       "\n",
       "    .dataframe thead th {\n",
       "        text-align: right;\n",
       "    }\n",
       "</style>\n",
       "<table border=\"1\" class=\"dataframe\">\n",
       "  <thead>\n",
       "    <tr style=\"text-align: right;\">\n",
       "      <th></th>\n",
       "      <th>pop</th>\n",
       "      <th>area</th>\n",
       "      <th>density</th>\n",
       "      <th>coastline</th>\n",
       "      <th>coast2area</th>\n",
       "      <th>revenue</th>\n",
       "      <th>expenditure</th>\n",
       "      <th>expnd_rev</th>\n",
       "      <th>expndpop</th>\n",
       "      <th>gini</th>\n",
       "      <th>...</th>\n",
       "      <th>North</th>\n",
       "      <th>DegEW</th>\n",
       "      <th>SecEW</th>\n",
       "      <th>EW</th>\n",
       "      <th>East</th>\n",
       "      <th>m_elecconsum</th>\n",
       "      <th>elecproduction</th>\n",
       "      <th>IMR</th>\n",
       "      <th>literacy</th>\n",
       "      <th>end</th>\n",
       "    </tr>\n",
       "  </thead>\n",
       "  <tbody>\n",
       "    <tr>\n",
       "      <th>0</th>\n",
       "      <td>31056997</td>\n",
       "      <td>647500</td>\n",
       "      <td>47.964474</td>\n",
       "      <td>0.0</td>\n",
       "      <td>0.000000</td>\n",
       "      <td>269.0</td>\n",
       "      <td>561.0</td>\n",
       "      <td>2.085502</td>\n",
       "      <td>18.063562</td>\n",
       "      <td>NaN</td>\n",
       "      <td>...</td>\n",
       "      <td>33</td>\n",
       "      <td>65</td>\n",
       "      <td>0</td>\n",
       "      <td>E</td>\n",
       "      <td>65</td>\n",
       "      <td>1042.0</td>\n",
       "      <td>9.050000e+08</td>\n",
       "      <td>160.23</td>\n",
       "      <td>0.360</td>\n",
       "      <td>1</td>\n",
       "    </tr>\n",
       "    <tr>\n",
       "      <th>1</th>\n",
       "      <td>3581655</td>\n",
       "      <td>28748</td>\n",
       "      <td>124.587971</td>\n",
       "      <td>362.0</td>\n",
       "      <td>1.259218</td>\n",
       "      <td>1960.0</td>\n",
       "      <td>2377.0</td>\n",
       "      <td>1.212755</td>\n",
       "      <td>663.659677</td>\n",
       "      <td>28.2</td>\n",
       "      <td>...</td>\n",
       "      <td>41</td>\n",
       "      <td>20</td>\n",
       "      <td>0</td>\n",
       "      <td>E</td>\n",
       "      <td>20</td>\n",
       "      <td>6760.0</td>\n",
       "      <td>5.680000e+09</td>\n",
       "      <td>20.75</td>\n",
       "      <td>0.865</td>\n",
       "      <td>1</td>\n",
       "    </tr>\n",
       "    <tr>\n",
       "      <th>2</th>\n",
       "      <td>32930091</td>\n",
       "      <td>2381740</td>\n",
       "      <td>13.826065</td>\n",
       "      <td>998.0</td>\n",
       "      <td>0.041902</td>\n",
       "      <td>42050.0</td>\n",
       "      <td>30750.0</td>\n",
       "      <td>0.731272</td>\n",
       "      <td>933.796387</td>\n",
       "      <td>35.3</td>\n",
       "      <td>...</td>\n",
       "      <td>28</td>\n",
       "      <td>3</td>\n",
       "      <td>0</td>\n",
       "      <td>E</td>\n",
       "      <td>3</td>\n",
       "      <td>24900.0</td>\n",
       "      <td>2.699000e+10</td>\n",
       "      <td>29.87</td>\n",
       "      <td>0.700</td>\n",
       "      <td>1</td>\n",
       "    </tr>\n",
       "    <tr>\n",
       "      <th>3</th>\n",
       "      <td>57794</td>\n",
       "      <td>199</td>\n",
       "      <td>290.422111</td>\n",
       "      <td>116.0</td>\n",
       "      <td>58.291457</td>\n",
       "      <td>121.0</td>\n",
       "      <td>127.0</td>\n",
       "      <td>1.049587</td>\n",
       "      <td>2197.459944</td>\n",
       "      <td>NaN</td>\n",
       "      <td>...</td>\n",
       "      <td>-14</td>\n",
       "      <td>170</td>\n",
       "      <td>0</td>\n",
       "      <td>W</td>\n",
       "      <td>-170</td>\n",
       "      <td>120.9</td>\n",
       "      <td>1.300000e+08</td>\n",
       "      <td>9.07</td>\n",
       "      <td>0.970</td>\n",
       "      <td>1</td>\n",
       "    </tr>\n",
       "    <tr>\n",
       "      <th>4</th>\n",
       "      <td>71201</td>\n",
       "      <td>468</td>\n",
       "      <td>152.138889</td>\n",
       "      <td>0.0</td>\n",
       "      <td>0.000000</td>\n",
       "      <td>373.5</td>\n",
       "      <td>373.5</td>\n",
       "      <td>1.000000</td>\n",
       "      <td>5245.712841</td>\n",
       "      <td>NaN</td>\n",
       "      <td>...</td>\n",
       "      <td>42</td>\n",
       "      <td>1</td>\n",
       "      <td>30</td>\n",
       "      <td>E</td>\n",
       "      <td>1</td>\n",
       "      <td>NaN</td>\n",
       "      <td>NaN</td>\n",
       "      <td>4.04</td>\n",
       "      <td>1.000</td>\n",
       "      <td>1</td>\n",
       "    </tr>\n",
       "    <tr>\n",
       "      <th>...</th>\n",
       "      <td>...</td>\n",
       "      <td>...</td>\n",
       "      <td>...</td>\n",
       "      <td>...</td>\n",
       "      <td>...</td>\n",
       "      <td>...</td>\n",
       "      <td>...</td>\n",
       "      <td>...</td>\n",
       "      <td>...</td>\n",
       "      <td>...</td>\n",
       "      <td>...</td>\n",
       "      <td>...</td>\n",
       "      <td>...</td>\n",
       "      <td>...</td>\n",
       "      <td>...</td>\n",
       "      <td>...</td>\n",
       "      <td>...</td>\n",
       "      <td>...</td>\n",
       "      <td>...</td>\n",
       "      <td>...</td>\n",
       "      <td>...</td>\n",
       "    </tr>\n",
       "    <tr>\n",
       "      <th>230</th>\n",
       "      <td>2460492</td>\n",
       "      <td>5860</td>\n",
       "      <td>419.879181</td>\n",
       "      <td>0.0</td>\n",
       "      <td>0.000000</td>\n",
       "      <td>964.0</td>\n",
       "      <td>1340.0</td>\n",
       "      <td>1.390041</td>\n",
       "      <td>544.606526</td>\n",
       "      <td>NaN</td>\n",
       "      <td>...</td>\n",
       "      <td>32</td>\n",
       "      <td>35</td>\n",
       "      <td>15</td>\n",
       "      <td>E</td>\n",
       "      <td>35</td>\n",
       "      <td>NaN</td>\n",
       "      <td>NaN</td>\n",
       "      <td>19.15</td>\n",
       "      <td>0.919</td>\n",
       "      <td>1</td>\n",
       "    </tr>\n",
       "    <tr>\n",
       "      <th>231</th>\n",
       "      <td>273008</td>\n",
       "      <td>266000</td>\n",
       "      <td>1.026346</td>\n",
       "      <td>1110.0</td>\n",
       "      <td>0.417293</td>\n",
       "      <td>NaN</td>\n",
       "      <td>NaN</td>\n",
       "      <td>NaN</td>\n",
       "      <td>NaN</td>\n",
       "      <td>NaN</td>\n",
       "      <td>...</td>\n",
       "      <td>24</td>\n",
       "      <td>13</td>\n",
       "      <td>0</td>\n",
       "      <td>W</td>\n",
       "      <td>-13</td>\n",
       "      <td>83.7</td>\n",
       "      <td>8.500000e+07</td>\n",
       "      <td>NaN</td>\n",
       "      <td>NaN</td>\n",
       "      <td>1</td>\n",
       "    </tr>\n",
       "    <tr>\n",
       "      <th>232</th>\n",
       "      <td>21456188</td>\n",
       "      <td>527970</td>\n",
       "      <td>40.639029</td>\n",
       "      <td>1906.0</td>\n",
       "      <td>0.361005</td>\n",
       "      <td>5616.0</td>\n",
       "      <td>5719.0</td>\n",
       "      <td>1.018340</td>\n",
       "      <td>266.543153</td>\n",
       "      <td>33.4</td>\n",
       "      <td>...</td>\n",
       "      <td>15</td>\n",
       "      <td>48</td>\n",
       "      <td>0</td>\n",
       "      <td>E</td>\n",
       "      <td>48</td>\n",
       "      <td>2827.0</td>\n",
       "      <td>3.848000e+09</td>\n",
       "      <td>59.88</td>\n",
       "      <td>0.502</td>\n",
       "      <td>1</td>\n",
       "    </tr>\n",
       "    <tr>\n",
       "      <th>233</th>\n",
       "      <td>11502010</td>\n",
       "      <td>752614</td>\n",
       "      <td>15.282748</td>\n",
       "      <td>0.0</td>\n",
       "      <td>0.000000</td>\n",
       "      <td>1688.0</td>\n",
       "      <td>1866.0</td>\n",
       "      <td>1.105450</td>\n",
       "      <td>162.232514</td>\n",
       "      <td>52.6</td>\n",
       "      <td>...</td>\n",
       "      <td>-15</td>\n",
       "      <td>30</td>\n",
       "      <td>0</td>\n",
       "      <td>E</td>\n",
       "      <td>30</td>\n",
       "      <td>5345.0</td>\n",
       "      <td>8.347000e+09</td>\n",
       "      <td>86.84</td>\n",
       "      <td>0.806</td>\n",
       "      <td>1</td>\n",
       "    </tr>\n",
       "    <tr>\n",
       "      <th>234</th>\n",
       "      <td>12236805</td>\n",
       "      <td>390580</td>\n",
       "      <td>31.329830</td>\n",
       "      <td>0.0</td>\n",
       "      <td>0.000000</td>\n",
       "      <td>1409.0</td>\n",
       "      <td>1905.0</td>\n",
       "      <td>1.352023</td>\n",
       "      <td>155.677891</td>\n",
       "      <td>56.8</td>\n",
       "      <td>...</td>\n",
       "      <td>-20</td>\n",
       "      <td>30</td>\n",
       "      <td>0</td>\n",
       "      <td>E</td>\n",
       "      <td>30</td>\n",
       "      <td>11220.0</td>\n",
       "      <td>8.877000e+09</td>\n",
       "      <td>51.71</td>\n",
       "      <td>0.907</td>\n",
       "      <td>1</td>\n",
       "    </tr>\n",
       "  </tbody>\n",
       "</table>\n",
       "<p>235 rows × 38 columns</p>\n",
       "</div>"
      ],
      "text/plain": [
       "          pop     area     density  coastline  coast2area  revenue  \\\n",
       "0    31056997   647500   47.964474        0.0    0.000000    269.0   \n",
       "1     3581655    28748  124.587971      362.0    1.259218   1960.0   \n",
       "2    32930091  2381740   13.826065      998.0    0.041902  42050.0   \n",
       "3       57794      199  290.422111      116.0   58.291457    121.0   \n",
       "4       71201      468  152.138889        0.0    0.000000    373.5   \n",
       "..        ...      ...         ...        ...         ...      ...   \n",
       "230   2460492     5860  419.879181        0.0    0.000000    964.0   \n",
       "231    273008   266000    1.026346     1110.0    0.417293      NaN   \n",
       "232  21456188   527970   40.639029     1906.0    0.361005   5616.0   \n",
       "233  11502010   752614   15.282748        0.0    0.000000   1688.0   \n",
       "234  12236805   390580   31.329830        0.0    0.000000   1409.0   \n",
       "\n",
       "     expenditure  expnd_rev     expndpop  gini  ...  North  DegEW  SecEW  EW  \\\n",
       "0          561.0   2.085502    18.063562   NaN  ...     33     65      0   E   \n",
       "1         2377.0   1.212755   663.659677  28.2  ...     41     20      0   E   \n",
       "2        30750.0   0.731272   933.796387  35.3  ...     28      3      0   E   \n",
       "3          127.0   1.049587  2197.459944   NaN  ...    -14    170      0   W   \n",
       "4          373.5   1.000000  5245.712841   NaN  ...     42      1     30   E   \n",
       "..           ...        ...          ...   ...  ...    ...    ...    ...  ..   \n",
       "230       1340.0   1.390041   544.606526   NaN  ...     32     35     15   E   \n",
       "231          NaN        NaN          NaN   NaN  ...     24     13      0   W   \n",
       "232       5719.0   1.018340   266.543153  33.4  ...     15     48      0   E   \n",
       "233       1866.0   1.105450   162.232514  52.6  ...    -15     30      0   E   \n",
       "234       1905.0   1.352023   155.677891  56.8  ...    -20     30      0   E   \n",
       "\n",
       "     East  m_elecconsum  elecproduction     IMR  literacy  end  \n",
       "0      65        1042.0    9.050000e+08  160.23     0.360    1  \n",
       "1      20        6760.0    5.680000e+09   20.75     0.865    1  \n",
       "2       3       24900.0    2.699000e+10   29.87     0.700    1  \n",
       "3    -170         120.9    1.300000e+08    9.07     0.970    1  \n",
       "4       1           NaN             NaN    4.04     1.000    1  \n",
       "..    ...           ...             ...     ...       ...  ...  \n",
       "230    35           NaN             NaN   19.15     0.919    1  \n",
       "231   -13          83.7    8.500000e+07     NaN       NaN    1  \n",
       "232    48        2827.0    3.848000e+09   59.88     0.502    1  \n",
       "233    30        5345.0    8.347000e+09   86.84     0.806    1  \n",
       "234    30       11220.0    8.877000e+09   51.71     0.907    1  \n",
       "\n",
       "[235 rows x 38 columns]"
      ]
     },
     "execution_count": 28,
     "metadata": {},
     "output_type": "execute_result"
    }
   ],
   "source": [
    "df_population"
   ]
  },
  {
   "cell_type": "code",
   "execution_count": 29,
   "id": "a9393cff-432e-48dd-a1f6-939c3822f678",
   "metadata": {},
   "outputs": [
    {
     "data": {
      "text/html": [
       "<div>\n",
       "<style scoped>\n",
       "    .dataframe tbody tr th:only-of-type {\n",
       "        vertical-align: middle;\n",
       "    }\n",
       "\n",
       "    .dataframe tbody tr th {\n",
       "        vertical-align: top;\n",
       "    }\n",
       "\n",
       "    .dataframe thead th {\n",
       "        text-align: right;\n",
       "    }\n",
       "</style>\n",
       "<table border=\"1\" class=\"dataframe\">\n",
       "  <thead>\n",
       "    <tr style=\"text-align: right;\">\n",
       "      <th></th>\n",
       "      <th>pop</th>\n",
       "      <th>area</th>\n",
       "      <th>density</th>\n",
       "      <th>coastline</th>\n",
       "      <th>coast2area</th>\n",
       "      <th>revenue</th>\n",
       "      <th>expenditure</th>\n",
       "      <th>expnd_rev</th>\n",
       "      <th>expndpop</th>\n",
       "      <th>gini</th>\n",
       "      <th>...</th>\n",
       "      <th>North</th>\n",
       "      <th>DegEW</th>\n",
       "      <th>SecEW</th>\n",
       "      <th>EW</th>\n",
       "      <th>East</th>\n",
       "      <th>m_elecconsum</th>\n",
       "      <th>elecproduction</th>\n",
       "      <th>IMR</th>\n",
       "      <th>literacy</th>\n",
       "      <th>end</th>\n",
       "    </tr>\n",
       "  </thead>\n",
       "  <tbody>\n",
       "    <tr>\n",
       "      <th>0</th>\n",
       "      <td>31056997</td>\n",
       "      <td>647500</td>\n",
       "      <td>47.964474</td>\n",
       "      <td>0.0</td>\n",
       "      <td>0.000000</td>\n",
       "      <td>269.0</td>\n",
       "      <td>561.0</td>\n",
       "      <td>2.085502</td>\n",
       "      <td>18.063562</td>\n",
       "      <td>NaN</td>\n",
       "      <td>...</td>\n",
       "      <td>33</td>\n",
       "      <td>65</td>\n",
       "      <td>0</td>\n",
       "      <td>E</td>\n",
       "      <td>65</td>\n",
       "      <td>1042.0</td>\n",
       "      <td>9.050000e+08</td>\n",
       "      <td>160.23</td>\n",
       "      <td>0.360</td>\n",
       "      <td>1</td>\n",
       "    </tr>\n",
       "    <tr>\n",
       "      <th>1</th>\n",
       "      <td>3581655</td>\n",
       "      <td>28748</td>\n",
       "      <td>124.587971</td>\n",
       "      <td>362.0</td>\n",
       "      <td>1.259218</td>\n",
       "      <td>1960.0</td>\n",
       "      <td>2377.0</td>\n",
       "      <td>1.212755</td>\n",
       "      <td>663.659677</td>\n",
       "      <td>28.2</td>\n",
       "      <td>...</td>\n",
       "      <td>41</td>\n",
       "      <td>20</td>\n",
       "      <td>0</td>\n",
       "      <td>E</td>\n",
       "      <td>20</td>\n",
       "      <td>6760.0</td>\n",
       "      <td>5.680000e+09</td>\n",
       "      <td>20.75</td>\n",
       "      <td>0.865</td>\n",
       "      <td>1</td>\n",
       "    </tr>\n",
       "  </tbody>\n",
       "</table>\n",
       "<p>2 rows × 38 columns</p>\n",
       "</div>"
      ],
      "text/plain": [
       "        pop    area     density  coastline  coast2area  revenue  expenditure  \\\n",
       "0  31056997  647500   47.964474        0.0    0.000000    269.0        561.0   \n",
       "1   3581655   28748  124.587971      362.0    1.259218   1960.0       2377.0   \n",
       "\n",
       "   expnd_rev    expndpop  gini  ...  North  DegEW  SecEW  EW  East  \\\n",
       "0   2.085502   18.063562   NaN  ...     33     65      0   E    65   \n",
       "1   1.212755  663.659677  28.2  ...     41     20      0   E    20   \n",
       "\n",
       "   m_elecconsum  elecproduction     IMR  literacy  end  \n",
       "0        1042.0    9.050000e+08  160.23     0.360    1  \n",
       "1        6760.0    5.680000e+09   20.75     0.865    1  \n",
       "\n",
       "[2 rows x 38 columns]"
      ]
     },
     "execution_count": 29,
     "metadata": {},
     "output_type": "execute_result"
    }
   ],
   "source": [
    "#Selecionando os dois primeiros registros\n",
    "df_population[:2]"
   ]
  },
  {
   "cell_type": "code",
   "execution_count": 30,
   "id": "a4b2c125-a855-41c9-9794-a77979736cdc",
   "metadata": {},
   "outputs": [
    {
     "data": {
      "text/plain": [
       "1     3581655\n",
       "2    32930091\n",
       "3       57794\n",
       "Name: pop, dtype: int64"
      ]
     },
     "execution_count": 30,
     "metadata": {},
     "output_type": "execute_result"
    }
   ],
   "source": [
    "#Selecionanod a população das posições 1,2 e 3, usando a função iloc\n",
    "df_population.iloc[1:4, 0]"
   ]
  },
  {
   "cell_type": "code",
   "execution_count": 31,
   "id": "ae8b4ebf-6f51-49c3-bbf5-c4f06e94b452",
   "metadata": {},
   "outputs": [
    {
     "data": {
      "text/html": [
       "<div>\n",
       "<style scoped>\n",
       "    .dataframe tbody tr th:only-of-type {\n",
       "        vertical-align: middle;\n",
       "    }\n",
       "\n",
       "    .dataframe tbody tr th {\n",
       "        vertical-align: top;\n",
       "    }\n",
       "\n",
       "    .dataframe thead th {\n",
       "        text-align: right;\n",
       "    }\n",
       "</style>\n",
       "<table border=\"1\" class=\"dataframe\">\n",
       "  <thead>\n",
       "    <tr style=\"text-align: right;\">\n",
       "      <th></th>\n",
       "      <th>pop</th>\n",
       "      <th>area</th>\n",
       "    </tr>\n",
       "  </thead>\n",
       "  <tbody>\n",
       "    <tr>\n",
       "      <th>43</th>\n",
       "      <td>1493</td>\n",
       "      <td>135</td>\n",
       "    </tr>\n",
       "    <tr>\n",
       "      <th>44</th>\n",
       "      <td>574</td>\n",
       "      <td>14</td>\n",
       "    </tr>\n",
       "    <tr>\n",
       "      <th>68</th>\n",
       "      <td>2967</td>\n",
       "      <td>12173</td>\n",
       "    </tr>\n",
       "    <tr>\n",
       "      <th>144</th>\n",
       "      <td>9439</td>\n",
       "      <td>102</td>\n",
       "    </tr>\n",
       "    <tr>\n",
       "      <th>157</th>\n",
       "      <td>2166</td>\n",
       "      <td>260</td>\n",
       "    </tr>\n",
       "    <tr>\n",
       "      <th>158</th>\n",
       "      <td>1828</td>\n",
       "      <td>35</td>\n",
       "    </tr>\n",
       "    <tr>\n",
       "      <th>177</th>\n",
       "      <td>7502</td>\n",
       "      <td>413</td>\n",
       "    </tr>\n",
       "    <tr>\n",
       "      <th>180</th>\n",
       "      <td>7026</td>\n",
       "      <td>242</td>\n",
       "    </tr>\n",
       "    <tr>\n",
       "      <th>200</th>\n",
       "      <td>2701</td>\n",
       "      <td>61020</td>\n",
       "    </tr>\n",
       "    <tr>\n",
       "      <th>210</th>\n",
       "      <td>1392</td>\n",
       "      <td>10</td>\n",
       "    </tr>\n",
       "  </tbody>\n",
       "</table>\n",
       "</div>"
      ],
      "text/plain": [
       "      pop   area\n",
       "43   1493    135\n",
       "44    574     14\n",
       "68   2967  12173\n",
       "144  9439    102\n",
       "157  2166    260\n",
       "158  1828     35\n",
       "177  7502    413\n",
       "180  7026    242\n",
       "200  2701  61020\n",
       "210  1392     10"
      ]
     },
     "execution_count": 31,
     "metadata": {},
     "output_type": "execute_result"
    }
   ],
   "source": [
    "#Exibindo População e area com menos de 10000 habitantes\n",
    "\n",
    "df_population.loc[df_population['pop'] < 10000, ['pop', 'area']]"
   ]
  },
  {
   "cell_type": "markdown",
   "id": "32e27810-1c84-4636-8ffb-adb17a8888c9",
   "metadata": {},
   "source": [
    "### Revisão Groupby\n",
    "\n",
    "https://medium.com/data-hackers/8-coisas-que-voc%C3%AA-n%C3%A3o-sabia-sobre-o-pandas-groupby-b2c9033d7034"
   ]
  },
  {
   "cell_type": "markdown",
   "id": "a1f06faa-6a7f-4338-ba58-ea072b2b2489",
   "metadata": {},
   "source": [
    "### Revisão Sort_values\n",
    "\n",
    "https://www.geeksforgeeks.org/python-pandas-dataframe-sort_values-set-1/"
   ]
  },
  {
   "cell_type": "code",
   "execution_count": null,
   "id": "2eaecbd0-af37-43dd-9543-d35cf86a5bde",
   "metadata": {},
   "outputs": [],
   "source": []
  }
 ],
 "metadata": {
  "kernelspec": {
   "display_name": "Python 3 (ipykernel)",
   "language": "python",
   "name": "python3"
  },
  "language_info": {
   "codemirror_mode": {
    "name": "ipython",
    "version": 3
   },
   "file_extension": ".py",
   "mimetype": "text/x-python",
   "name": "python",
   "nbconvert_exporter": "python",
   "pygments_lexer": "ipython3",
   "version": "3.10.9"
  }
 },
 "nbformat": 4,
 "nbformat_minor": 5
}
